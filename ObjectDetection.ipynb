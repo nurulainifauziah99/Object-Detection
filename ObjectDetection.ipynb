{
  "nbformat": 4,
  "nbformat_minor": 0,
  "metadata": {
    "colab": {
      "name": "Untitled3.ipynb",
      "provenance": [],
      "collapsed_sections": []
    },
    "kernelspec": {
      "name": "python3",
      "display_name": "Python 3"
    }
  },
  "cells": [
    {
      "cell_type": "code",
      "metadata": {
        "id": "grFge466lP7-"
      },
      "source": [
        "from imutils.video import VideoStream\n",
        "from imutils.video import FPS\n",
        "import numpy as np\n",
        "import imutils\n",
        "import time\n",
        "import cv2"
      ],
      "execution_count": null,
      "outputs": []
    },
    {
      "cell_type": "code",
      "metadata": {
        "id": "p1UjHoXLr82x"
      },
      "source": [
        "# initialize the list of class labels MobileNet SSD was trained to\n",
        "# detect, then generate a set of bounding box colors for each class\n",
        "CLASSES = [\"background\", \"aeroplane\", \"bicycle\", \"bird\", \"boat\",\n",
        "\t\"bottle\", \"bus\", \"car\", \"cat\", \"chair\", \"cow\", \"diningtable\",\n",
        "\t\"dog\", \"horse\", \"motorbike\", \"person\", \"pottedplant\", \"sheep\",\n",
        "\t\"sofa\", \"train\", \"tvmonitor\"]\n",
        "COLORS = np.random.uniform(0, 255, size=(len(CLASSES), 3))"
      ],
      "execution_count": null,
      "outputs": []
    },
    {
      "cell_type": "code",
      "metadata": {
        "id": "gFrgrK0esT1f",
        "colab": {
          "base_uri": "https://localhost:8080/",
          "height": 34
        },
        "outputId": "fa09f98c-3884-4b85-ee53-f6cf892bf51a"
      },
      "source": [
        "# load our serialized model from disk\n",
        "print(\"[INFO] loading model...\")\n",
        "net = cv2.dnn.readNetFromCaffe(\"/content/MobileNetSSD_deploy.prototxt.txt\", \"/content/MobileNetSSD_deploy.caffemodel\")"
      ],
      "execution_count": null,
      "outputs": [
        {
          "output_type": "stream",
          "text": [
            "[INFO] loading model...\n"
          ],
          "name": "stdout"
        }
      ]
    },
    {
      "cell_type": "code",
      "metadata": {
        "id": "y0BuHI68sfhx",
        "colab": {
          "base_uri": "https://localhost:8080/",
          "height": 34
        },
        "outputId": "35e7244d-d756-4d7b-c96e-b02109c66f40"
      },
      "source": [
        "# initialize the video stream, allow the cammera sensor to warmup,\n",
        "# and initialize the FPS counter\n",
        "print(\"[INFO] starting video stream...\")\n",
        "cap = cv2.VideoCapture(\"/content/Khairiyat.mp4\")\n"
      ],
      "execution_count": null,
      "outputs": [
        {
          "output_type": "stream",
          "text": [
            "[INFO] starting video stream...\n"
          ],
          "name": "stdout"
        }
      ]
    },
    {
      "cell_type": "code",
      "metadata": {
        "id": "cY4p3Kgysj_G"
      },
      "source": [
        "from google.colab.patches import cv2_imshow\n",
        "# loop over the frames from the video stream\n",
        "while True:\n",
        "\t# grab the frame from the threaded video stream and resize it\n",
        "\t# to have a maximum width of 400 pixels\n",
        "\tret, frame = cap.read()\n",
        "\tframe = imutils.resize(frame, width=400)\n",
        " \n",
        "\t# grab the frame dimensions and convert it to a blob\n",
        "\t(h, w) = frame.shape[:2]\n",
        "\tblob = cv2.dnn.blobFromImage(cv2.resize(frame, (300, 300)),\n",
        "\t\t0.007843, (300, 300), 127.5)\n",
        "\n",
        "\t# pass the blob through the network and obtain the detections and\n",
        "\t# predictions\n",
        "\tnet.setInput(blob)\n",
        "\tdetections = net.forward()\n",
        "\n",
        "\t# loop over the detections\n",
        "\tfor i in np.arange(0, detections.shape[2]):\n",
        "\t\t# extract the confidence (i.e., probability) associated with\n",
        "\t\t# the prediction\n",
        "\t\tconfidence = detections[0, 0, i, 2]\n",
        "\n",
        "\t\t# filter out weak detections by ensuring the `confidence` is\n",
        "\t\t# greater than the minimum confidence\n",
        "\t\tif confidence > 0.2:\n",
        "\t\t\t# extract the index of the class label from the\n",
        "\t\t\t# `detections`, then compute the (x, y)-coordinates of\n",
        "\t\t\t# the bounding box for the object\n",
        "\t\t\tidx = int(detections[0, 0, i, 1])\n",
        "\t\t\tbox = detections[0, 0, i, 3:7] * np.array([w, h, w, h])\n",
        "\t\t\t(startX, startY, endX, endY) = box.astype(\"int\")\n",
        "\n",
        "\t\t\t# draw the prediction on the frame\n",
        "\t\t\tlabel = \"{}: {:.2f}%\".format(CLASSES[idx],\n",
        "\t\t\t\tconfidence * 100)\n",
        "\t\t\tcv2.rectangle(frame, (startX, startY), (endX, endY),\n",
        "\t\t\t\tCOLORS[idx], 2)\n",
        "\t\t\ty = startY - 15 if startY - 15 > 15 else startY + 15\n",
        "\t\t\tcv2.putText(frame, label, (startX, y),\n",
        "\t\t\t\tcv2.FONT_HERSHEY_SIMPLEX, 0.5, COLORS[idx], 2)\n",
        "\n",
        "\t# show the output frame\n",
        "\tcv2_imshow(frame)\n",
        "\tkey = cv2.waitKey(1) & 0xFF\n",
        "\n",
        "\t# if the `q` key was pressed, break from the loop\n",
        "\tif key == ord(\"q\"):\n",
        "\t\tbreak\n",
        "\n",
        "\t# update the FPS counter\n",
        "\tfps.update()\n",
        "\n",
        "# stop the timer and display FPS information\n",
        "fps.stop()\n",
        "print(\"[INFO] elapsed time: {:.2f}\".format(fps.elapsed()))\n",
        "print(\"[INFO] approx. FPS: {:.2f}\".format(fps.fps()))\n",
        "\n",
        "# do a bit of cleanup\n",
        "cv2.destroyAllWindows()\n",
        "vs.stop()"
      ],
      "execution_count": null,
      "outputs": []
    },
    {
      "cell_type": "code",
      "metadata": {
        "id": "1_wbcZqWuRZd"
      },
      "source": [
        ""
      ],
      "execution_count": null,
      "outputs": []
    }
  ]
}